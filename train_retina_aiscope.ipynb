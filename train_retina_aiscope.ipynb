{
 "cells": [
  {
   "cell_type": "code",
   "execution_count": 14,
   "metadata": {
    "scrolled": false
   },
   "outputs": [
    {
     "name": "stderr",
     "output_type": "stream",
     "text": [
      "neptune: Executing in Offline Mode.\n"
     ]
    }
   ],
   "source": [
    "import keras\n",
    "import os\n",
    "from deepsense import neptune\n",
    "from keras_retinanet.bin.train import create_models\n",
    "from keras_retinanet.callbacks.eval import Evaluate\n",
    "from keras_retinanet.models.resnet import download_imagenet, resnet_retinanet as retinanet\n",
    "from keras_retinanet.preprocessing.detgen import DetDataGenerator\n",
    "from keras_retinanet.preprocessing.csv_generator import CSVGenerator\n",
    "from keras_retinanet.utils.transform import random_transform_generator\n",
    "from keras_retinanet.preprocessing.detgen import DetDataGenerator\n",
    "from detdata import DetGen\n",
    "from detdata.augmenters import crazy_augmenter\n",
    "from keras_retinanet.utils.eval import evaluate\n",
    "import matplotlib.pyplot as plt\n",
    "plt.style.use('ggplot')\n",
    "\n",
    "%matplotlib inline\n",
    "\n",
    "import warnings\n",
    "warnings.filterwarnings(\"ignore\")\n",
    "\n",
    "ctx = neptune.Context()\n",
    "\n",
    "detg= DetGen('/home/i008/malaria_data/dataset_train.mxrecords',\n",
    "      '/home/i008/malaria_data/dataset_train.csv',\n",
    "      '/home/i008/malaria_data/dataset_train.mxindex', batch_size=4)\n",
    "\n",
    "\n",
    "train_generator = DetDataGenerator(detg, augmenter=crazy_augmenter)\n",
    "train_generator.image_max_side = 750\n",
    "train_generator.image_min_side = 750\n",
    "\n",
    "\n",
    "\n",
    "\n",
    "weights = download_imagenet('resnet50')\n",
    "\n",
    "model_checkpoint = keras.callbacks.ModelCheckpoint('mod-{epoch:02d}_loss-{loss:.4f}.h5',\n",
    "                                                   monitor='loss',\n",
    "                                                   verbose=2,\n",
    "                                                   save_best_only=False,\n",
    "                                                   save_weights_only=False,\n",
    "                                                   mode='auto',\n",
    "                                                   period=1)\n",
    "\n",
    "callbacks = []\n",
    "\n",
    "\n",
    "class LossHistory(keras.callbacks.Callback):\n",
    "    def on_train_begin(self, logs={}):\n",
    "        self.losses = []\n",
    "\n",
    "    def on_batch_end(self, batch, logs={}):\n",
    "        ctx.channel_send(\"loss\", logs.get('loss'))\n",
    "\n",
    "    def on_epoch_end(self, epoch, logs={}):\n",
    "        ctx.channel_send(\"val_loss\", logs.get('val_loss'))\n",
    "\n",
    "\n",
    "callbacks.append(keras.callbacks.ReduceLROnPlateau(\n",
    "    monitor='loss',\n",
    "    factor=0.1,\n",
    "    patience=2,\n",
    "    verbose=1,\n",
    "    mode='auto',\n",
    "    epsilon=0.0001,\n",
    "    cooldown=0,\n",
    "    min_lr=0\n",
    "))\n",
    "\n",
    "# callbacks.append(LossHistory())\n",
    "callbacks.append(model_checkpoint)\n",
    "\n",
    "model, training_model, prediction_model = create_models(\n",
    "    backbone_retinanet=retinanet,\n",
    "    backbone='resnet50',\n",
    "    num_classes=train_generator.num_classes(),\n",
    "    weights=weights,\n",
    "    multi_gpu=0,\n",
    "    freeze_backbone=True\n",
    ")\n",
    "\n",
    "# training_model.fit_generator(\n",
    "#     generator=train_generator,\n",
    "#     steps_per_epoch=5000,\n",
    "#     epochs=100,\n",
    "#     verbose=1,\n",
    "#     callbacks=callbacks,\n",
    "# )"
   ]
  },
  {
   "cell_type": "code",
   "execution_count": 2,
   "metadata": {},
   "outputs": [],
   "source": [
    "# training_model.fit_generator(\n",
    "#     generator=train_generator,\n",
    "#     steps_per_epoch=5000,\n",
    "#     epochs=100,\n",
    "#     verbose=1,\n",
    "#     callbacks=callbacks,\n",
    "# )"
   ]
  },
  {
   "cell_type": "code",
   "execution_count": 19,
   "metadata": {},
   "outputs": [],
   "source": [
    "model.load_weights('mod-40_loss-2.0113.h5')"
   ]
  },
  {
   "cell_type": "code",
   "execution_count": 5,
   "metadata": {},
   "outputs": [],
   "source": [
    "import pandas as pd"
   ]
  },
  {
   "cell_type": "code",
   "execution_count": 6,
   "metadata": {},
   "outputs": [],
   "source": [
    "df = pd.read_csv('/home/i008/malaria_data/dataset_train.csv')\n",
    "df = df[['fname','xmin','ymin','xmax','ymax','class_name']]\n",
    "df['fname'] = '/home/i008/googledrive/Projects/malaria/malaria_dataset/' + df.fname \n",
    "df.to_csv('csvitertrain.csv', header=False, index=False)"
   ]
  },
  {
   "cell_type": "code",
   "execution_count": 8,
   "metadata": {},
   "outputs": [
    {
     "name": "stdout",
     "output_type": "stream",
     "text": [
      "Overwriting cls.csv\n"
     ]
    }
   ],
   "source": [
    "%%writefile cls.csv\n",
    "Malaria, 0"
   ]
  },
  {
   "cell_type": "code",
   "execution_count": 20,
   "metadata": {},
   "outputs": [
    {
     "data": {
      "text/plain": [
       "[array([[[ 0.77843237,  0.88179201, -0.39568624, -0.12024883],\n",
       "         [ 0.77255142,  0.94349009, -0.48530662, -0.16200781],\n",
       "         [ 0.57146406,  0.93402553, -0.84362429,  0.35413888],\n",
       "         ..., \n",
       "         [-0.11196241, -0.16095227,  0.0993282 , -0.07307471],\n",
       "         [-0.14613849, -0.14316392,  0.04777076, -0.11493397],\n",
       "         [-0.14815781, -0.16174443,  0.03175341, -0.12969147]]], dtype=float32),\n",
       " array([[[ 0.01316346],\n",
       "         [ 0.01271749],\n",
       "         [ 0.01185289],\n",
       "         ..., \n",
       "         [ 0.01042768],\n",
       "         [ 0.01042996],\n",
       "         [ 0.01031132]]], dtype=float32),\n",
       " array([[[   0.        ,    0.        ,   28.42854881,   17.04012871],\n",
       "         [   0.        ,    0.        ,   34.2766037 ,   20.48968887],\n",
       "         [   0.        ,    0.        ,   38.44734192,   26.63245392],\n",
       "         ..., \n",
       "         [ 643.29516602,  463.55981445,  800.        ,  800.        ],\n",
       "         [ 595.07452393,  373.16491699,  800.        ,  800.        ],\n",
       "         [ 534.30432129,  253.42358398,  800.        ,  800.        ]]], dtype=float32),\n",
       " array([[[ 0.],\n",
       "         [ 0.],\n",
       "         [ 0.],\n",
       "         ..., \n",
       "         [ 0.],\n",
       "         [ 0.],\n",
       "         [ 0.]]], dtype=float32)]"
      ]
     },
     "execution_count": 20,
     "metadata": {},
     "output_type": "execute_result"
    }
   ],
   "source": [
    "g = CSVGenerator('csviterval.csv', 'cls.csv')\n",
    "x, y =g.next()\n",
    "model.predict(x)"
   ]
  },
  {
   "cell_type": "code",
   "execution_count": 43,
   "metadata": {},
   "outputs": [
    {
     "data": {
      "text/plain": [
       "{0: 0.76875487986135504}"
      ]
     },
     "execution_count": 43,
     "metadata": {},
     "output_type": "execute_result"
    }
   ],
   "source": [
    "# average_precisions, recall, precision, true_positives, false_positives = evaluate(g, model, score_threshold=0.1)\n",
    "average_precisions"
   ]
  },
  {
   "cell_type": "code",
   "execution_count": 41,
   "metadata": {},
   "outputs": [
    {
     "data": {
      "image/png": "[encoded data removed]",
      "text/plain": [
       "<matplotlib.figure.Figure at 0x7f0c7de98c18>"
      ]
     },
     "metadata": {},
     "output_type": "display_data"
    }
   ],
   "source": [
    "plt.plot(recall, precision)\n",
    "plt.xlabel('recall')\n",
    "plt.ylabel('precision')\n",
    "\n",
    "plt.style.use('ggplot')\n",
    "import seaborn as sns"
   ]
  },
  {
   "cell_type": "code",
   "execution_count": 36,
   "metadata": {},
   "outputs": [
    {
     "data": {
      "text/plain": [
       "array([ 0.00140647,  0.00281294,  0.00421941, ...,  1.        ,\n",
       "        1.        ,  1.        ])"
      ]
     },
     "execution_count": 36,
     "metadata": {},
     "output_type": "execute_result"
    }
   ],
   "source": [
    "true_positives / max(true_positives)"
   ]
  },
  {
   "cell_type": "code",
   "execution_count": 42,
   "metadata": {},
   "outputs": [
    {
     "data": {
      "text/plain": [
       "Text(0,0.5,'detection rate (true positives)')"
      ]
     },
     "execution_count": 42,
     "metadata": {},
     "output_type": "execute_result"
    },
    {
     "data": {
      "image/png": "[encoded data removed]",
      "text/plain": [
       "<matplotlib.figure.Figure at 0x7f0c7dbbfe10>"
      ]
     },
     "metadata": {},
     "output_type": "display_data"
    }
   ],
   "source": [
    "plt.plot(false_positives/max(false_positives), true_positives/max(true_positives))\n",
    "plt.xlabel(\"false alarmrate (false positives)\")\n",
    "plt.ylabel(\"detection rate (true positives)\")"
   ]
  },
  {
   "cell_type": "code",
   "execution_count": 7,
   "metadata": {},
   "outputs": [
    {
     "data": {
      "text/plain": [
       "[<matplotlib.lines.Line2D at 0x7f4d8c19a278>]"
      ]
     },
     "execution_count": 7,
     "metadata": {},
     "output_type": "execute_result"
    },
    {
     "data": {
      "image/png": "[encoded data removed]",
      "text/plain": [
       "<matplotlib.figure.Figure at 0x7f4d8b89fbe0>"
      ]
     },
     "metadata": {},
     "output_type": "display_data"
    }
   ],
   "source": [
    "precisions = [1, 1, 1, 0.75, 0.6, 0.5, 0.42]\n",
    "recalls = [0.1, 0.2, 0.3, 0.3, 0.3, 0.3, 0.3]\n",
    "\n",
    "plt.plot(recalls, precisions, '*')"
   ]
  },
  {
   "cell_type": "code",
   "execution_count": 19,
   "metadata": {},
   "outputs": [
    {
     "name": "stdout",
     "output_type": "stream",
     "text": [
      "top 1.0 recall=0.09090909090909091  precision=1.0\n",
      "top 2.0 recall=0.18181818181818182  precision=1.0\n",
      "top 3.0 recall=0.2727272727272727  precision=1.0\n",
      "top 4.0 recall=0.2727272727272727  precision=0.75\n",
      "top 5.0 recall=0.2727272727272727  precision=0.6\n",
      "top 6.0 recall=0.2727272727272727  precision=0.5\n",
      "top 7.0 recall=0.2727272727272727  precision=0.42857142857142855\n",
      "top 8.0 recall=0.2727272727272727  precision=0.375\n",
      "top 9.0 recall=0.2727272727272727  precision=0.3333333333333333\n",
      "top 10.0 recall=0.2727272727272727  precision=0.3\n",
      "top 11.0 recall=0.36363636363636365  precision=0.36363636363636365\n"
     ]
    }
   ],
   "source": [
    "import numpy as np\n",
    "sorted_detections = np.array([0.6, 0.5, 0.49, 0.3, 0.2, 1.5, 0.1, 0.09, 0.05, 0.01, 0.01] )\n",
    "sorted_detections_simplify = [1] * 11\n",
    "positives = np.array([1,1,1,0,0,0,0,0,0,0,1])\n",
    "assert len(sorted_detections_simplify) == len(positives)\n",
    "\n",
    "\n",
    "\n",
    "all_true = sum(positives)\n",
    "correct_detectio = 0\n",
    "R = []\n",
    "P = []\n",
    "for i, (det, true) in enumerate(zip(sorted_detections_simplify, positives)):\n",
    "    i+=1\n",
    "    i=i * 1.0\n",
    "    \n",
    "    if det == true:\n",
    "        correct_detectio+=1\n",
    "    precision = correct_detectio / i\n",
    "    recall = correct_detectio / len(positives)\n",
    "    print(\"top {} recall={}  precision={}\".format(i, recall, precision))\n",
    "    R.append(recall)\n",
    "    P.append(precision)\n",
    "    \n",
    "    \n",
    "    "
   ]
  },
  {
   "cell_type": "code",
   "execution_count": 21,
   "metadata": {},
   "outputs": [
    {
     "data": {
      "text/plain": [
       "[<matplotlib.lines.Line2D at 0x7f4d8b98a940>]"
      ]
     },
     "execution_count": 21,
     "metadata": {},
     "output_type": "execute_result"
    },
    {
     "data": {
      "image/png": "[encoded data removed]",
      "text/plain": [
       "<matplotlib.figure.Figure at 0x7f4d8bc49208>"
      ]
     },
     "metadata": {},
     "output_type": "display_data"
    }
   ],
   "source": [
    "plt.plot(R, P)"
   ]
  }
 ],
 "metadata": {
  "kernelspec": {
   "display_name": "Python 3",
   "language": "python",
   "name": "python3"
  },
  "language_info": {
   "codemirror_mode": {
    "name": "ipython",
    "version": 3
   },
   "file_extension": ".py",
   "mimetype": "text/x-python",
   "name": "python",
   "nbconvert_exporter": "python",
   "pygments_lexer": "ipython3",
   "version": "3.6.4"
  }
 },
 "nbformat": 4,
 "nbformat_minor": 2
}
